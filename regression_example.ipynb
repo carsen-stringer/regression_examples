{
 "cells": [
  {
   "cell_type": "code",
   "execution_count": 77,
   "metadata": {},
   "outputs": [
    {
     "data": {
      "text/html": [
       "<div>\n",
       "<style scoped>\n",
       "    .dataframe tbody tr th:only-of-type {\n",
       "        vertical-align: middle;\n",
       "    }\n",
       "\n",
       "    .dataframe tbody tr th {\n",
       "        vertical-align: top;\n",
       "    }\n",
       "\n",
       "    .dataframe thead th {\n",
       "        text-align: right;\n",
       "    }\n",
       "</style>\n",
       "<table border=\"1\" class=\"dataframe\">\n",
       "  <thead>\n",
       "    <tr style=\"text-align: right;\">\n",
       "      <th></th>\n",
       "      <th>animal</th>\n",
       "      <th>weight</th>\n",
       "      <th>height</th>\n",
       "      <th>inafrica</th>\n",
       "    </tr>\n",
       "  </thead>\n",
       "  <tbody>\n",
       "    <tr>\n",
       "      <td>0</td>\n",
       "      <td>elephant</td>\n",
       "      <td>2000</td>\n",
       "      <td>10.0</td>\n",
       "      <td>1</td>\n",
       "    </tr>\n",
       "    <tr>\n",
       "      <td>1</td>\n",
       "      <td>giraffe</td>\n",
       "      <td>1500</td>\n",
       "      <td>20.0</td>\n",
       "      <td>1</td>\n",
       "    </tr>\n",
       "    <tr>\n",
       "      <td>2</td>\n",
       "      <td>bear</td>\n",
       "      <td>1500</td>\n",
       "      <td>8.0</td>\n",
       "      <td>0</td>\n",
       "    </tr>\n",
       "    <tr>\n",
       "      <td>3</td>\n",
       "      <td>reindeer</td>\n",
       "      <td>800</td>\n",
       "      <td>6.0</td>\n",
       "      <td>0</td>\n",
       "    </tr>\n",
       "    <tr>\n",
       "      <td>4</td>\n",
       "      <td>squirrel</td>\n",
       "      <td>3</td>\n",
       "      <td>1.0</td>\n",
       "      <td>0</td>\n",
       "    </tr>\n",
       "    <tr>\n",
       "      <td>5</td>\n",
       "      <td>rabbit</td>\n",
       "      <td>2</td>\n",
       "      <td>0.8</td>\n",
       "      <td>0</td>\n",
       "    </tr>\n",
       "  </tbody>\n",
       "</table>\n",
       "</div>"
      ],
      "text/plain": [
       "     animal  weight  height  inafrica\n",
       "0  elephant    2000    10.0         1\n",
       "1   giraffe    1500    20.0         1\n",
       "2      bear    1500     8.0         0\n",
       "3  reindeer     800     6.0         0\n",
       "4  squirrel       3     1.0         0\n",
       "5    rabbit       2     0.8         0"
      ]
     },
     "execution_count": 77,
     "metadata": {},
     "output_type": "execute_result"
    }
   ],
   "source": [
    "## load in csv file\n",
    "import csv\n",
    "import pandas as pd\n",
    "import numpy as np\n",
    "\n",
    "data = pd.read_csv('animals.csv')\n",
    "data"
   ]
  },
  {
   "cell_type": "code",
   "execution_count": 78,
   "metadata": {},
   "outputs": [
    {
     "name": "stdout",
     "output_type": "stream",
     "text": [
      "[[2000 10.0 1]\n",
      " [1500 20.0 1]\n",
      " [1500 8.0 0]\n",
      " [800 6.0 0]\n",
      " [3 1.0 0]\n",
      " [2 0.8 0]]\n"
     ]
    }
   ],
   "source": [
    "# convert to array\n",
    "D = np.array(data.values[:,1:])\n",
    "print(D)"
   ]
  },
  {
   "cell_type": "code",
   "execution_count": 107,
   "metadata": {},
   "outputs": [
    {
     "name": "stdout",
     "output_type": "stream",
     "text": [
      "['CRIM' 'ZN' 'INDUS' 'CHAS' 'NOX' 'RM' 'AGE' 'DIS' 'RAD' 'TAX' 'PTRATIO'\n",
      " 'B' 'LSTAT']\n"
     ]
    }
   ],
   "source": [
    "# let's use a bigger dataset for the regression\n",
    "# (this is an example dataset from sklearn datasets)\n",
    "# the target is the cost of boston house prices\n",
    "from sklearn.datasets import load_boston\n",
    "data = load_boston()\n",
    "print(data['feature_names'])\n",
    "\n",
    "# I am going to concatenate that\n",
    "D = np.concatenate((data['data'], data['target'][:,np.newaxis]), axis=-1)"
   ]
  },
  {
   "cell_type": "code",
   "execution_count": 143,
   "metadata": {},
   "outputs": [
    {
     "data": {
      "image/png": "[encoded data removed]",
      "text/plain": [
       "<Figure size 432x288 with 1 Axes>"
      ]
     },
     "metadata": {
      "needs_background": "light"
     },
     "output_type": "display_data"
    }
   ],
   "source": [
    "%matplotlib inline\n",
    "# inspect data distributions\n",
    "plt.hist(D[:,9])\n",
    "plt.show()"
   ]
  },
  {
   "cell_type": "code",
   "execution_count": 145,
   "metadata": {},
   "outputs": [
    {
     "name": "stdout",
     "output_type": "stream",
     "text": [
      "R^2: 0.661\n"
     ]
    },
    {
     "data": {
      "image/png": "[encoded data removed]",
      "text/plain": [
       "<Figure size 432x288 with 1 Axes>"
      ]
     },
     "metadata": {
      "needs_background": "light"
     },
     "output_type": "display_data"
    }
   ],
   "source": [
    "from sklearn.linear_model import LinearRegression, LogisticRegression\n",
    "\n",
    "# we want to split data into test and train and decide what to predict\n",
    "\n",
    "pred = 3 # predict if on charles-river (a zero-one variable)\n",
    "pred = 13 # all other variables are floats\n",
    "\n",
    "# take X and Y using pred as Y\n",
    "ndata, nvar = D.shape\n",
    "notpred = np.ones(nvar, np.bool)\n",
    "notpred[pred] = 0\n",
    "X = D[:,notpred]\n",
    "Y = D[:,pred]\n",
    "\n",
    "# split data into test and train\n",
    "test_inds = np.arange(0, ndata, 4, int) # take 1/4 of data as test\n",
    "train_inds = np.ones(ndata, np.bool)\n",
    "train_inds[test_inds] = 0\n",
    "\n",
    "X_train, Y_train = X[train_inds], Y[train_inds]\n",
    "X_test, Y_test = X[test_inds], Y[test_inds]\n",
    "\n",
    "if pred==3:\n",
    "    # logistic regression is for predicting true-false variables\n",
    "    model = LogisticRegression().fit(X_train, Y_train.astype(np.bool))\n",
    "    Y_pred = model.predict(X_test)\n",
    "    \n",
    "else:\n",
    "    # linear regression is for predicting float variables\n",
    "    model = LinearRegression().fit(X_train, Y_train)\n",
    "    Y_pred = model.predict(X_test)\n",
    "    plt.scatter(Y_test,Y_pred)\n",
    "    plt.plot(Y_test,Y_test,'k')\n",
    "    plt.xlabel('true value')\n",
    "    plt.ylabel('predicted value')\n",
    "    plt.axis('square')\n",
    "\n",
    "# accuracy\n",
    "# for logistic regression, it's percentage correct\n",
    "# for linear regression, it's the R^2 score\n",
    "if pred==3:\n",
    "    print('accuracy: %2.3f'%model.score(X_test, Y_test))\n",
    "else:\n",
    "    print('R^2: %2.3f'%model.score(X_test, Y_test))\n"
   ]
  },
  {
   "cell_type": "code",
   "execution_count": null,
   "metadata": {},
   "outputs": [],
   "source": [
    "LogisticRegression?"
   ]
  }
 ],
 "metadata": {
  "kernelspec": {
   "display_name": "Python 3",
   "language": "python",
   "name": "python3"
  },
  "language_info": {
   "codemirror_mode": {
    "name": "ipython",
    "version": 3
   },
   "file_extension": ".py",
   "mimetype": "text/x-python",
   "name": "python",
   "nbconvert_exporter": "python",
   "pygments_lexer": "ipython3",
   "version": "3.7.4"
  }
 },
 "nbformat": 4,
 "nbformat_minor": 2
}
